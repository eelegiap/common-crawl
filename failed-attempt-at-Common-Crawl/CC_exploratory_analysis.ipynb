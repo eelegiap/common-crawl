{
 "cells": [
  {
   "cell_type": "code",
   "execution_count": 3,
   "metadata": {},
   "outputs": [],
   "source": [
    "# pip install warcio"
   ]
  },
  {
   "cell_type": "markdown",
   "metadata": {},
   "source": [
    "### Testing code example"
   ]
  },
  {
   "cell_type": "code",
   "execution_count": 512,
   "metadata": {},
   "outputs": [],
   "source": [
    "from warcio.archiveiterator import ArchiveIterator\n",
    "import re\n",
    "import requests\n",
    "import sys\n",
    "\n",
    "regex = re.compile(\n",
    "    \"(youtu\\.be/|youtube\\.com/(watch\\?(.*\\&)?v=|(embed|v)/))([^?&\\\"'>]+)\"\n",
    ")\n",
    "\n",
    "entries = 0\n",
    "matching_entries = 0\n",
    "hits = 0\n",
    "\n",
    "file_name = \"http://commoncrawl.s3.amazonaws.com/crawl-data/CC-MAIN-2019-30/segments/1563195523840.34/warc/CC-MAIN-20190715175205-20190715200159-00000.warc.gz\"\n",
    "\n",
    "stream = None\n",
    "\n",
    "if file_name.startswith(\"http://\") or file_name.startswith(\n",
    "    \"https://\"\n",
    "):\n",
    "    stream = requests.get(file_name, stream=True).raw\n",
    "else:\n",
    "    stream = open(file_name, \"rb\")\n",
    "    \n",
    "# for record in ArchiveIterator(stream):\n",
    "#     if record.rec_type == \"warcinfo\":\n",
    "#         continue\n",
    "\n",
    "#     if not \".com/\" in record.rec_headers.get_header(\n",
    "#         \"WARC-Target-URI\"\n",
    "#     ):\n",
    "#         continue\n",
    "\n",
    "#     entries = entries + 1\n",
    "#     contents = (\n",
    "#         record.content_stream()\n",
    "#         .read()\n",
    "#         .decode(\"utf-8\", \"replace\")\n",
    "#     )\n",
    "#     m = regex.search(contents)\n",
    "#     if m:\n",
    "#         matching_entries = matching_entries + 1\n",
    "#         hits = hits + 1\n",
    "#         print(m)\n",
    "#         break\n",
    "#         m = regex.search(contents, m.end())\n",
    "\n",
    "#     while m:\n",
    "#         m = regex.search(contents, m.end())\n",
    "#         hits = hits + 1\n",
    "# print(\n",
    "#     \"Python: \"\n",
    "#     + str(hits)\n",
    "#     + \" matches in \"\n",
    "#     + str(matching_entries)\n",
    "#     + \"/\"\n",
    "#     + str(entries)\n",
    "# )"
   ]
  },
  {
   "cell_type": "markdown",
   "metadata": {},
   "source": [
    "### Examining the record type"
   ]
  },
  {
   "cell_type": "code",
   "execution_count": 93,
   "metadata": {},
   "outputs": [
    {
     "name": "stdout",
     "output_type": "stream",
     "text": [
      "content_stream\n",
      "<bound method ArcWarcRecord.content_stream of <warcio.recordloader.ArcWarcRecord object at 0x11217cf28>>\n",
      "\n",
      "content_type\n",
      "application/http; msgtype=response\n",
      "\n",
      "digest_checker\n",
      "<warcio.digestverifyingreader.DigestChecker object at 0x10ee03518>\n",
      "\n",
      "format\n",
      "warc\n",
      "\n",
      "http_headers\n",
      "HTTP/1.1 200 OK\n",
      "Date: Mon, 15 Jul 2019 19:14:51 GMT\n",
      "Content-Type: text/html; charset=UTF-8\n",
      "X-Crawler-Transfer-Encoding: chunked\n",
      "Connection: keep-alive\n",
      "Set-Cookie: __cfduid=dacd630ccdfcbe26f286d85a7208ebe1e1563218090; expires=Tue, 14-Jul-20 19:14:50 GMT; path=/; domain=.0519sun.com; HttpOnly\n",
      "X-Powered-By: PHP/7.2.20\n",
      "Link: <http://0519sun.com/wp-json/>; rel=\"https://api.w.org/\", <http://0519sun.com/?p=540>; rel=shortlink\n",
      "Vary: Accept-Encoding\n",
      "Server: cloudflare\n",
      "CF-RAY: 4f6e0fca7db2ab52-YYZ\n",
      "X-Crawler-Content-Encoding: gzip\n",
      "\n",
      "\n",
      "length\n",
      "28411\n",
      "\n",
      "payload_length\n",
      "27871\n",
      "\n",
      "raw_stream\n",
      "<warcio.limitreader.LimitReader object at 0x10ee03860>\n",
      "\n",
      "rec_headers\n",
      "WARC/1.0\n",
      "WARC-Type: response\n",
      "WARC-Date: 2019-07-15T19:14:51Z\n",
      "WARC-Record-ID: <urn:uuid:d3725eb6-3f49-4f12-a04e-c37b9bce5282>\n",
      "Content-Length: 28411\n",
      "Content-Type: application/http; msgtype=response\n",
      "WARC-Warcinfo-ID: <urn:uuid:722f6b98-ad9c-4ab1-b8d2-c99f3cbe85e6>\n",
      "WARC-Concurrent-To: <urn:uuid:c5a90cf6-b387-498e-b4d9-93b38e8fa8af>\n",
      "WARC-IP-Address: 104.31.95.84\n",
      "WARC-Target-URI: http://0519sun.com/world-news-jhrs-night-time-for-rights.html\n",
      "WARC-Payload-Digest: sha1:Y5YJEVEFN4FHBN7H3WSQVIMANKVRLANX\n",
      "WARC-Block-Digest: sha1:W2EHAWISDY67UR7AXIWYUNVKEWF2BG3W\n",
      "WARC-Identified-Payload-Type: text/html\n",
      "\n",
      "\n",
      "rec_type\n",
      "response\n",
      "\n"
     ]
    }
   ],
   "source": [
    "for method in dir(record):\n",
    "    if method[0] != '_':\n",
    "        print(method)\n",
    "        print(getattr(record, method))\n",
    "        print()"
   ]
  },
  {
   "cell_type": "markdown",
   "metadata": {},
   "source": [
    "## See if I can find one article that mentions economics and covid (changing filepath to 2020)"
   ]
  },
  {
   "cell_type": "code",
   "execution_count": 561,
   "metadata": {},
   "outputs": [],
   "source": [
    "import warc"
   ]
  },
  {
   "cell_type": "markdown",
   "metadata": {},
   "source": [
    "### What I'd like to do:"
   ]
  },
  {
   "cell_type": "code",
   "execution_count": 563,
   "metadata": {},
   "outputs": [
    {
     "ename": "AttributeError",
     "evalue": "module 'warc' has no attribute 'open'",
     "output_type": "error",
     "traceback": [
      "\u001b[0;31m---------------------------------------------------------------------------\u001b[0m",
      "\u001b[0;31mAttributeError\u001b[0m                            Traceback (most recent call last)",
      "\u001b[0;32m<ipython-input-563-3c4eccc0a001>\u001b[0m in \u001b[0;36m<module>\u001b[0;34m\u001b[0m\n\u001b[1;32m      1\u001b[0m \u001b[0;32mimport\u001b[0m \u001b[0mwarc\u001b[0m\u001b[0;34m\u001b[0m\u001b[0;34m\u001b[0m\u001b[0m\n\u001b[0;32m----> 2\u001b[0;31m \u001b[0mf\u001b[0m \u001b[0;34m=\u001b[0m \u001b[0mwarc\u001b[0m\u001b[0;34m.\u001b[0m\u001b[0mopen\u001b[0m\u001b[0;34m(\u001b[0m\u001b[0;34m\"warc.paths.gz\"\u001b[0m\u001b[0;34m)\u001b[0m\u001b[0;34m\u001b[0m\u001b[0;34m\u001b[0m\u001b[0m\n\u001b[0m\u001b[1;32m      3\u001b[0m \u001b[0;32mfor\u001b[0m \u001b[0mrecord\u001b[0m \u001b[0;32min\u001b[0m \u001b[0mf\u001b[0m\u001b[0;34m:\u001b[0m\u001b[0;34m\u001b[0m\u001b[0;34m\u001b[0m\u001b[0m\n\u001b[1;32m      4\u001b[0m     \u001b[0mprint\u001b[0m\u001b[0;34m(\u001b[0m\u001b[0mrecord\u001b[0m\u001b[0;34m[\u001b[0m\u001b[0;34m'WARC-Target-URI'\u001b[0m\u001b[0;34m]\u001b[0m\u001b[0;34m,\u001b[0m \u001b[0mrecord\u001b[0m\u001b[0;34m[\u001b[0m\u001b[0;34m'Content-Length'\u001b[0m\u001b[0;34m]\u001b[0m\u001b[0;34m)\u001b[0m\u001b[0;34m\u001b[0m\u001b[0;34m\u001b[0m\u001b[0m\n",
      "\u001b[0;31mAttributeError\u001b[0m: module 'warc' has no attribute 'open'"
     ]
    }
   ],
   "source": [
    "import warc\n",
    "f = warc.open(\"warc.paths.gz\")\n",
    "for record in f:\n",
    "    print(record['WARC-Target-URI'], record['Content-Length'])"
   ]
  },
  {
   "cell_type": "markdown",
   "metadata": {},
   "source": [
    "#### read these docs for like 3 hours to no success : https://warc.readthedocs.io/en/latest/"
   ]
  },
  {
   "cell_type": "markdown",
   "metadata": {},
   "source": [
    "### ^ this is my fatal error, since the ArchiveIterator also isn't working"
   ]
  },
  {
   "cell_type": "code",
   "execution_count": 559,
   "metadata": {},
   "outputs": [],
   "source": [
    "for record in ArchiveIterator(stream):\n",
    "    if record.rec_type == \"warcinfo\":\n",
    "        contents = (\n",
    "        record.content_stream()\n",
    "        .read()\n",
    "        .decode(\"utf-8\", \"replace\")\n",
    "    )\n",
    "        break\n",
    "\n",
    "    if not \".com/\" in record.rec_headers.get_header(\n",
    "        \"WARC-Target-URI\"\n",
    "    ):\n",
    "        break"
   ]
  },
  {
   "cell_type": "code",
   "execution_count": 560,
   "metadata": {},
   "outputs": [
    {
     "data": {
      "text/plain": [
       "<gzip on 0x10f9bd6a0>"
      ]
     },
     "execution_count": 560,
     "metadata": {},
     "output_type": "execute_result"
    }
   ],
   "source": [
    "contents"
   ]
  },
  {
   "cell_type": "code",
   "execution_count": 514,
   "metadata": {},
   "outputs": [],
   "source": [
    "from warcio.archiveiterator import WARCIterator"
   ]
  },
  {
   "cell_type": "code",
   "execution_count": 494,
   "metadata": {},
   "outputs": [
    {
     "name": "stdout",
     "output_type": "stream",
     "text": [
      "Help on class WARCIterator in module warcio.archiveiterator:\n",
      "\n",
      "class WARCIterator(ArchiveIterator)\n",
      " |  WARCIterator(*args, **kwargs)\n",
      " |  \n",
      " |  Iterate over records in WARC and ARC files, both gzip chunk\n",
      " |  compressed and uncompressed\n",
      " |  \n",
      " |  The indexer will automatically detect format, and decompress\n",
      " |  if necessary.\n",
      " |  \n",
      " |  Method resolution order:\n",
      " |      WARCIterator\n",
      " |      ArchiveIterator\n",
      " |      builtins.object\n",
      " |  \n",
      " |  Methods defined here:\n",
      " |  \n",
      " |  __init__(self, *args, **kwargs)\n",
      " |      Initialize self.  See help(type(self)) for accurate signature.\n",
      " |  \n",
      " |  ----------------------------------------------------------------------\n",
      " |  Methods inherited from ArchiveIterator:\n",
      " |  \n",
      " |  __iter__(self)\n",
      " |  \n",
      " |  __next__(self)\n",
      " |  \n",
      " |  close(self)\n",
      " |  \n",
      " |  get_record_length(self)\n",
      " |  \n",
      " |  get_record_offset(self)\n",
      " |  \n",
      " |  read_to_end(self, record=None)\n",
      " |      Read remainder of the stream\n",
      " |      If a digester is included, update it\n",
      " |      with the data read\n",
      " |  \n",
      " |  ----------------------------------------------------------------------\n",
      " |  Data descriptors inherited from ArchiveIterator:\n",
      " |  \n",
      " |  __dict__\n",
      " |      dictionary for instance variables (if defined)\n",
      " |  \n",
      " |  __weakref__\n",
      " |      list of weak references to the object (if defined)\n",
      " |  \n",
      " |  ----------------------------------------------------------------------\n",
      " |  Data and other attributes inherited from ArchiveIterator:\n",
      " |  \n",
      " |  GZIP_ERR_MSG = '\\n    ERROR: non-chunked gzip file detected, gzip...io...\n",
      " |  \n",
      " |  INC_RECORD = '    WARNING: Record not followed by newline, per...th is...\n",
      "\n"
     ]
    }
   ],
   "source": [
    "help(WARCIterator)"
   ]
  },
  {
   "cell_type": "code",
   "execution_count": 547,
   "metadata": {},
   "outputs": [],
   "source": [
    "file_name = \"warc.paths.gz\"\n",
    "\n",
    "stream = None\n",
    "\n",
    "if file_name.startswith(\"http://\") or file_name.startswith(\n",
    "    \"https://\"\n",
    "):\n",
    "    stream = requests.get(file_name, stream=True).raw\n",
    "else:\n",
    "    stream = open(file_name, \"rb\")"
   ]
  },
  {
   "cell_type": "code",
   "execution_count": 548,
   "metadata": {},
   "outputs": [],
   "source": [
    "rec_list = []\n",
    "for rec in stream:\n",
    "    rec_list.append(\"http://commoncrawl.s3.amazonaws.com/\" + rec.decode())"
   ]
  },
  {
   "cell_type": "code",
   "execution_count": 549,
   "metadata": {},
   "outputs": [
    {
     "data": {
      "text/plain": [
       "'http://commoncrawl.s3.amazonaws.com/crawl-data/CC-MAIN-2020-05/segments/1579250589560.16/warc/CC-MAIN-20200117123339-20200117151339-00001.warc.gz\\n'"
      ]
     },
     "execution_count": 549,
     "metadata": {},
     "output_type": "execute_result"
    }
   ],
   "source": [
    "rec_list[1]"
   ]
  },
  {
   "cell_type": "code",
   "execution_count": 551,
   "metadata": {},
   "outputs": [
    {
     "ename": "ArchiveLoadFailed",
     "evalue": "Unknown archive format, first line: ['<?xml', 'version=\"1.0\"', 'encoding=\"UTF-8\"?>']",
     "output_type": "error",
     "traceback": [
      "\u001b[0;31m---------------------------------------------------------------------------\u001b[0m",
      "\u001b[0;31mStatusAndHeadersParserException\u001b[0m           Traceback (most recent call last)",
      "\u001b[0;32m~/anaconda3/lib/python3.7/site-packages/warcio/recordloader.py\u001b[0m in \u001b[0;36m_detect_type_load_headers\u001b[0;34m(self, stream, statusline, known_format)\u001b[0m\n\u001b[1;32m    235\u001b[0m         \u001b[0;32mtry\u001b[0m\u001b[0;34m:\u001b[0m\u001b[0;34m\u001b[0m\u001b[0;34m\u001b[0m\u001b[0m\n\u001b[0;32m--> 236\u001b[0;31m             \u001b[0mrec_headers\u001b[0m \u001b[0;34m=\u001b[0m \u001b[0mself\u001b[0m\u001b[0;34m.\u001b[0m\u001b[0marc_parser\u001b[0m\u001b[0;34m.\u001b[0m\u001b[0mparse\u001b[0m\u001b[0;34m(\u001b[0m\u001b[0mstream\u001b[0m\u001b[0;34m,\u001b[0m \u001b[0mstatusline\u001b[0m\u001b[0;34m)\u001b[0m\u001b[0;34m\u001b[0m\u001b[0;34m\u001b[0m\u001b[0m\n\u001b[0m\u001b[1;32m    237\u001b[0m             \u001b[0;32mreturn\u001b[0m \u001b[0mself\u001b[0m\u001b[0;34m.\u001b[0m\u001b[0marc_parser\u001b[0m\u001b[0;34m.\u001b[0m\u001b[0mget_rec_type\u001b[0m\u001b[0;34m(\u001b[0m\u001b[0;34m)\u001b[0m\u001b[0;34m,\u001b[0m \u001b[0mrec_headers\u001b[0m\u001b[0;34m\u001b[0m\u001b[0;34m\u001b[0m\u001b[0m\n",
      "\u001b[0;32m~/anaconda3/lib/python3.7/site-packages/warcio/recordloader.py\u001b[0m in \u001b[0;36mparse\u001b[0;34m(self, stream, headerline)\u001b[0m\n\u001b[1;32m    311\u001b[0m             \u001b[0mmsg\u001b[0m \u001b[0;34m=\u001b[0m \u001b[0mmsg\u001b[0m\u001b[0;34m.\u001b[0m\u001b[0mformat\u001b[0m\u001b[0;34m(\u001b[0m\u001b[0mheadernames\u001b[0m\u001b[0;34m,\u001b[0m \u001b[0mparts\u001b[0m\u001b[0;34m)\u001b[0m\u001b[0;34m\u001b[0m\u001b[0;34m\u001b[0m\u001b[0m\n\u001b[0;32m--> 312\u001b[0;31m             \u001b[0;32mraise\u001b[0m \u001b[0mStatusAndHeadersParserException\u001b[0m\u001b[0;34m(\u001b[0m\u001b[0mmsg\u001b[0m\u001b[0;34m,\u001b[0m \u001b[0mparts\u001b[0m\u001b[0;34m)\u001b[0m\u001b[0;34m\u001b[0m\u001b[0;34m\u001b[0m\u001b[0m\n\u001b[0m\u001b[1;32m    313\u001b[0m \u001b[0;34m\u001b[0m\u001b[0m\n",
      "\u001b[0;31mStatusAndHeadersParserException\u001b[0m: Wrong # of headers, expected arc headers ['uri', 'ip-address', 'archive-date', 'content-type', 'length'], Found ['<?xml', 'version=\"1.0\"', 'encoding=\"UTF-8\"?>']",
      "\nDuring handling of the above exception, another exception occurred:\n",
      "\u001b[0;31mArchiveLoadFailed\u001b[0m                         Traceback (most recent call last)",
      "\u001b[0;32m<ipython-input-551-2b4750fa2366>\u001b[0m in \u001b[0;36m<module>\u001b[0;34m\u001b[0m\n\u001b[1;32m      9\u001b[0m \u001b[0;32melse\u001b[0m\u001b[0;34m:\u001b[0m\u001b[0;34m\u001b[0m\u001b[0;34m\u001b[0m\u001b[0m\n\u001b[1;32m     10\u001b[0m     \u001b[0mstream\u001b[0m \u001b[0;34m=\u001b[0m \u001b[0mopen\u001b[0m\u001b[0;34m(\u001b[0m\u001b[0mfile_name\u001b[0m\u001b[0;34m,\u001b[0m \u001b[0;34m\"rb\"\u001b[0m\u001b[0;34m)\u001b[0m\u001b[0;34m\u001b[0m\u001b[0;34m\u001b[0m\u001b[0m\n\u001b[0;32m---> 11\u001b[0;31m \u001b[0;32mfor\u001b[0m \u001b[0mrecord\u001b[0m \u001b[0;32min\u001b[0m \u001b[0mArchiveIterator\u001b[0m\u001b[0;34m(\u001b[0m\u001b[0mstream\u001b[0m\u001b[0;34m)\u001b[0m\u001b[0;34m:\u001b[0m\u001b[0;34m\u001b[0m\u001b[0;34m\u001b[0m\u001b[0m\n\u001b[0m\u001b[1;32m     12\u001b[0m     \u001b[0;32mif\u001b[0m \u001b[0mrecord\u001b[0m\u001b[0;34m.\u001b[0m\u001b[0mrec_type\u001b[0m \u001b[0;34m==\u001b[0m \u001b[0;34m\"warcinfo\"\u001b[0m\u001b[0;34m:\u001b[0m\u001b[0;34m\u001b[0m\u001b[0;34m\u001b[0m\u001b[0m\n\u001b[1;32m     13\u001b[0m         contents = (\n",
      "\u001b[0;32m~/anaconda3/lib/python3.7/site-packages/warcio/archiveiterator.py\u001b[0m in \u001b[0;36m_iterate_records\u001b[0;34m(self)\u001b[0m\n\u001b[1;32m    108\u001b[0m         \u001b[0;32mwhile\u001b[0m \u001b[0;32mTrue\u001b[0m\u001b[0;34m:\u001b[0m\u001b[0;34m\u001b[0m\u001b[0;34m\u001b[0m\u001b[0m\n\u001b[1;32m    109\u001b[0m             \u001b[0;32mtry\u001b[0m\u001b[0;34m:\u001b[0m\u001b[0;34m\u001b[0m\u001b[0;34m\u001b[0m\u001b[0m\n\u001b[0;32m--> 110\u001b[0;31m                 \u001b[0mself\u001b[0m\u001b[0;34m.\u001b[0m\u001b[0mrecord\u001b[0m \u001b[0;34m=\u001b[0m \u001b[0mself\u001b[0m\u001b[0;34m.\u001b[0m\u001b[0m_next_record\u001b[0m\u001b[0;34m(\u001b[0m\u001b[0mself\u001b[0m\u001b[0;34m.\u001b[0m\u001b[0mnext_line\u001b[0m\u001b[0;34m)\u001b[0m\u001b[0;34m\u001b[0m\u001b[0;34m\u001b[0m\u001b[0m\n\u001b[0m\u001b[1;32m    111\u001b[0m                 \u001b[0;32mif\u001b[0m \u001b[0mraise_invalid_gzip\u001b[0m\u001b[0;34m:\u001b[0m\u001b[0;34m\u001b[0m\u001b[0;34m\u001b[0m\u001b[0m\n\u001b[1;32m    112\u001b[0m                     \u001b[0mself\u001b[0m\u001b[0;34m.\u001b[0m\u001b[0m_raise_invalid_gzip_err\u001b[0m\u001b[0;34m(\u001b[0m\u001b[0;34m)\u001b[0m\u001b[0;34m\u001b[0m\u001b[0;34m\u001b[0m\u001b[0m\n",
      "\u001b[0;32m~/anaconda3/lib/python3.7/site-packages/warcio/archiveiterator.py\u001b[0m in \u001b[0;36m_next_record\u001b[0;34m(self, next_line)\u001b[0m\n\u001b[1;32m    260\u001b[0m                                                  \u001b[0mself\u001b[0m\u001b[0;34m.\u001b[0m\u001b[0mno_record_parse\u001b[0m\u001b[0;34m,\u001b[0m\u001b[0;34m\u001b[0m\u001b[0;34m\u001b[0m\u001b[0m\n\u001b[1;32m    261\u001b[0m                                                  \u001b[0mself\u001b[0m\u001b[0;34m.\u001b[0m\u001b[0mensure_http_headers\u001b[0m\u001b[0;34m,\u001b[0m\u001b[0;34m\u001b[0m\u001b[0;34m\u001b[0m\u001b[0m\n\u001b[0;32m--> 262\u001b[0;31m                                                  self.check_digests)\n\u001b[0m\u001b[1;32m    263\u001b[0m \u001b[0;34m\u001b[0m\u001b[0m\n\u001b[1;32m    264\u001b[0m         \u001b[0mself\u001b[0m\u001b[0;34m.\u001b[0m\u001b[0mmember_info\u001b[0m \u001b[0;34m=\u001b[0m \u001b[0;32mNone\u001b[0m\u001b[0;34m\u001b[0m\u001b[0;34m\u001b[0m\u001b[0m\n",
      "\u001b[0;32m~/anaconda3/lib/python3.7/site-packages/warcio/recordloader.py\u001b[0m in \u001b[0;36mparse_record_stream\u001b[0;34m(self, stream, statusline, known_format, no_record_parse, ensure_http_headers, check_digests)\u001b[0m\n\u001b[1;32m     86\u001b[0m                                      _detect_type_load_headers(stream,\n\u001b[1;32m     87\u001b[0m                                                                \u001b[0mstatusline\u001b[0m\u001b[0;34m,\u001b[0m\u001b[0;34m\u001b[0m\u001b[0;34m\u001b[0m\u001b[0m\n\u001b[0;32m---> 88\u001b[0;31m                                                                known_format))\n\u001b[0m\u001b[1;32m     89\u001b[0m \u001b[0;34m\u001b[0m\u001b[0m\n\u001b[1;32m     90\u001b[0m         \u001b[0;32mif\u001b[0m \u001b[0mthe_format\u001b[0m \u001b[0;34m==\u001b[0m \u001b[0;34m'arc'\u001b[0m\u001b[0;34m:\u001b[0m\u001b[0;34m\u001b[0m\u001b[0;34m\u001b[0m\u001b[0m\n",
      "\u001b[0;32m~/anaconda3/lib/python3.7/site-packages/warcio/recordloader.py\u001b[0m in \u001b[0;36m_detect_type_load_headers\u001b[0;34m(self, stream, statusline, known_format)\u001b[0m\n\u001b[1;32m    241\u001b[0m             \u001b[0;32melse\u001b[0m\u001b[0;34m:\u001b[0m\u001b[0;34m\u001b[0m\u001b[0;34m\u001b[0m\u001b[0m\n\u001b[1;32m    242\u001b[0m                 \u001b[0mmsg\u001b[0m \u001b[0;34m=\u001b[0m \u001b[0;34m'Unknown archive format, first line: '\u001b[0m\u001b[0;34m\u001b[0m\u001b[0;34m\u001b[0m\u001b[0m\n\u001b[0;32m--> 243\u001b[0;31m             \u001b[0;32mraise\u001b[0m \u001b[0mArchiveLoadFailed\u001b[0m\u001b[0;34m(\u001b[0m\u001b[0mmsg\u001b[0m \u001b[0;34m+\u001b[0m \u001b[0mstr\u001b[0m\u001b[0;34m(\u001b[0m\u001b[0mse\u001b[0m\u001b[0;34m.\u001b[0m\u001b[0mstatusline\u001b[0m\u001b[0;34m)\u001b[0m\u001b[0;34m)\u001b[0m\u001b[0;34m\u001b[0m\u001b[0;34m\u001b[0m\u001b[0m\n\u001b[0m\u001b[1;32m    244\u001b[0m \u001b[0;34m\u001b[0m\u001b[0m\n\u001b[1;32m    245\u001b[0m     \u001b[0;32mdef\u001b[0m \u001b[0m_ensure_target_uri_format\u001b[0m\u001b[0;34m(\u001b[0m\u001b[0mself\u001b[0m\u001b[0;34m,\u001b[0m \u001b[0mrec_headers\u001b[0m\u001b[0;34m)\u001b[0m\u001b[0;34m:\u001b[0m\u001b[0;34m\u001b[0m\u001b[0;34m\u001b[0m\u001b[0m\n",
      "\u001b[0;31mArchiveLoadFailed\u001b[0m: Unknown archive format, first line: ['<?xml', 'version=\"1.0\"', 'encoding=\"UTF-8\"?>']"
     ]
    }
   ],
   "source": [
    "file_name = rec_list[1]\n",
    "\n",
    "stream = None\n",
    "\n",
    "if file_name.startswith(\"http://\") or file_name.startswith(\n",
    "    \"https://\"\n",
    "):\n",
    "    stream = requests.get(file_name, stream=True).raw\n",
    "else:\n",
    "    stream = open(file_name, \"rb\")\n",
    "for record in ArchiveIterator(stream):\n",
    "    if record.rec_type == \"warcinfo\":\n",
    "        contents = (\n",
    "        record.content_stream()\n",
    "        .read()\n",
    "        .decode(\"utf-8\", \"replace\")\n",
    "    )\n",
    "        break\n",
    "\n",
    "    if not \".com/\" in record.rec_headers.get_header(\n",
    "        \"WARC-Target-URI\"\n",
    "    ):\n",
    "        break"
   ]
  },
  {
   "cell_type": "code",
   "execution_count": 550,
   "metadata": {},
   "outputs": [
    {
     "ename": "ArchiveLoadFailed",
     "evalue": "Unknown archive format, first line: ['<?xml', 'version=\"1.0\"', 'encoding=\"UTF-8\"?>']",
     "output_type": "error",
     "traceback": [
      "\u001b[0;31m---------------------------------------------------------------------------\u001b[0m",
      "\u001b[0;31mStatusAndHeadersParserException\u001b[0m           Traceback (most recent call last)",
      "\u001b[0;32m~/anaconda3/lib/python3.7/site-packages/warcio/recordloader.py\u001b[0m in \u001b[0;36m_detect_type_load_headers\u001b[0;34m(self, stream, statusline, known_format)\u001b[0m\n\u001b[1;32m    235\u001b[0m         \u001b[0;32mtry\u001b[0m\u001b[0;34m:\u001b[0m\u001b[0;34m\u001b[0m\u001b[0;34m\u001b[0m\u001b[0m\n\u001b[0;32m--> 236\u001b[0;31m             \u001b[0mrec_headers\u001b[0m \u001b[0;34m=\u001b[0m \u001b[0mself\u001b[0m\u001b[0;34m.\u001b[0m\u001b[0marc_parser\u001b[0m\u001b[0;34m.\u001b[0m\u001b[0mparse\u001b[0m\u001b[0;34m(\u001b[0m\u001b[0mstream\u001b[0m\u001b[0;34m,\u001b[0m \u001b[0mstatusline\u001b[0m\u001b[0;34m)\u001b[0m\u001b[0;34m\u001b[0m\u001b[0;34m\u001b[0m\u001b[0m\n\u001b[0m\u001b[1;32m    237\u001b[0m             \u001b[0;32mreturn\u001b[0m \u001b[0mself\u001b[0m\u001b[0;34m.\u001b[0m\u001b[0marc_parser\u001b[0m\u001b[0;34m.\u001b[0m\u001b[0mget_rec_type\u001b[0m\u001b[0;34m(\u001b[0m\u001b[0;34m)\u001b[0m\u001b[0;34m,\u001b[0m \u001b[0mrec_headers\u001b[0m\u001b[0;34m\u001b[0m\u001b[0;34m\u001b[0m\u001b[0m\n",
      "\u001b[0;32m~/anaconda3/lib/python3.7/site-packages/warcio/recordloader.py\u001b[0m in \u001b[0;36mparse\u001b[0;34m(self, stream, headerline)\u001b[0m\n\u001b[1;32m    311\u001b[0m             \u001b[0mmsg\u001b[0m \u001b[0;34m=\u001b[0m \u001b[0mmsg\u001b[0m\u001b[0;34m.\u001b[0m\u001b[0mformat\u001b[0m\u001b[0;34m(\u001b[0m\u001b[0mheadernames\u001b[0m\u001b[0;34m,\u001b[0m \u001b[0mparts\u001b[0m\u001b[0;34m)\u001b[0m\u001b[0;34m\u001b[0m\u001b[0;34m\u001b[0m\u001b[0m\n\u001b[0;32m--> 312\u001b[0;31m             \u001b[0;32mraise\u001b[0m \u001b[0mStatusAndHeadersParserException\u001b[0m\u001b[0;34m(\u001b[0m\u001b[0mmsg\u001b[0m\u001b[0;34m,\u001b[0m \u001b[0mparts\u001b[0m\u001b[0;34m)\u001b[0m\u001b[0;34m\u001b[0m\u001b[0;34m\u001b[0m\u001b[0m\n\u001b[0m\u001b[1;32m    313\u001b[0m \u001b[0;34m\u001b[0m\u001b[0m\n",
      "\u001b[0;31mStatusAndHeadersParserException\u001b[0m: Wrong # of headers, expected arc headers ['WARC-Target-URI', 'WARC-IP-Address', 'WARC-Date', 'Content-Type', 'Content-Length'], Found ['<?xml', 'version=\"1.0\"', 'encoding=\"UTF-8\"?>']",
      "\nDuring handling of the above exception, another exception occurred:\n",
      "\u001b[0;31mArchiveLoadFailed\u001b[0m                         Traceback (most recent call last)",
      "\u001b[0;32m<ipython-input-550-afaa62847efc>\u001b[0m in \u001b[0;36m<module>\u001b[0;34m\u001b[0m\n\u001b[1;32m     19\u001b[0m \u001b[0;34m\u001b[0m\u001b[0m\n\u001b[1;32m     20\u001b[0m \u001b[0;31m# WARC\u001b[0m\u001b[0;34m\u001b[0m\u001b[0;34m\u001b[0m\u001b[0;34m\u001b[0m\u001b[0m\n\u001b[0;32m---> 21\u001b[0;31m \u001b[0mprint_records\u001b[0m\u001b[0;34m(\u001b[0m\u001b[0mfile_name\u001b[0m\u001b[0;34m)\u001b[0m\u001b[0;34m\u001b[0m\u001b[0;34m\u001b[0m\u001b[0m\n\u001b[0m\u001b[1;32m     22\u001b[0m \u001b[0;34m\u001b[0m\u001b[0m\n\u001b[1;32m     23\u001b[0m \u001b[0;34m\u001b[0m\u001b[0m\n",
      "\u001b[0;32m<ipython-input-550-afaa62847efc>\u001b[0m in \u001b[0;36mprint_records\u001b[0;34m(url)\u001b[0m\n\u001b[1;32m      8\u001b[0m     \u001b[0mresp\u001b[0m \u001b[0;34m=\u001b[0m \u001b[0mrequests\u001b[0m\u001b[0;34m.\u001b[0m\u001b[0mget\u001b[0m\u001b[0;34m(\u001b[0m\u001b[0murl\u001b[0m\u001b[0;34m,\u001b[0m \u001b[0mstream\u001b[0m\u001b[0;34m=\u001b[0m\u001b[0;32mTrue\u001b[0m\u001b[0;34m)\u001b[0m\u001b[0;34m\u001b[0m\u001b[0;34m\u001b[0m\u001b[0m\n\u001b[1;32m      9\u001b[0m \u001b[0;34m\u001b[0m\u001b[0m\n\u001b[0;32m---> 10\u001b[0;31m     \u001b[0;32mfor\u001b[0m \u001b[0mrecord\u001b[0m \u001b[0;32min\u001b[0m \u001b[0mArchiveIterator\u001b[0m\u001b[0;34m(\u001b[0m\u001b[0mresp\u001b[0m\u001b[0;34m.\u001b[0m\u001b[0mraw\u001b[0m\u001b[0;34m,\u001b[0m \u001b[0marc2warc\u001b[0m\u001b[0;34m=\u001b[0m\u001b[0;32mTrue\u001b[0m\u001b[0;34m)\u001b[0m\u001b[0;34m:\u001b[0m\u001b[0;34m\u001b[0m\u001b[0;34m\u001b[0m\u001b[0m\n\u001b[0m\u001b[1;32m     11\u001b[0m         \u001b[0;32mif\u001b[0m \u001b[0mrecord\u001b[0m\u001b[0;34m.\u001b[0m\u001b[0mrec_type\u001b[0m \u001b[0;34m==\u001b[0m \u001b[0;34m'warcinfo'\u001b[0m\u001b[0;34m:\u001b[0m\u001b[0;34m\u001b[0m\u001b[0;34m\u001b[0m\u001b[0m\n\u001b[1;32m     12\u001b[0m             \u001b[0mprint\u001b[0m\u001b[0;34m(\u001b[0m\u001b[0mrecord\u001b[0m\u001b[0;34m.\u001b[0m\u001b[0mraw_stream\u001b[0m\u001b[0;34m.\u001b[0m\u001b[0mread\u001b[0m\u001b[0;34m(\u001b[0m\u001b[0;34m)\u001b[0m\u001b[0;34m)\u001b[0m\u001b[0;34m\u001b[0m\u001b[0;34m\u001b[0m\u001b[0m\n",
      "\u001b[0;32m~/anaconda3/lib/python3.7/site-packages/warcio/archiveiterator.py\u001b[0m in \u001b[0;36m_iterate_records\u001b[0;34m(self)\u001b[0m\n\u001b[1;32m    108\u001b[0m         \u001b[0;32mwhile\u001b[0m \u001b[0;32mTrue\u001b[0m\u001b[0;34m:\u001b[0m\u001b[0;34m\u001b[0m\u001b[0;34m\u001b[0m\u001b[0m\n\u001b[1;32m    109\u001b[0m             \u001b[0;32mtry\u001b[0m\u001b[0;34m:\u001b[0m\u001b[0;34m\u001b[0m\u001b[0;34m\u001b[0m\u001b[0m\n\u001b[0;32m--> 110\u001b[0;31m                 \u001b[0mself\u001b[0m\u001b[0;34m.\u001b[0m\u001b[0mrecord\u001b[0m \u001b[0;34m=\u001b[0m \u001b[0mself\u001b[0m\u001b[0;34m.\u001b[0m\u001b[0m_next_record\u001b[0m\u001b[0;34m(\u001b[0m\u001b[0mself\u001b[0m\u001b[0;34m.\u001b[0m\u001b[0mnext_line\u001b[0m\u001b[0;34m)\u001b[0m\u001b[0;34m\u001b[0m\u001b[0;34m\u001b[0m\u001b[0m\n\u001b[0m\u001b[1;32m    111\u001b[0m                 \u001b[0;32mif\u001b[0m \u001b[0mraise_invalid_gzip\u001b[0m\u001b[0;34m:\u001b[0m\u001b[0;34m\u001b[0m\u001b[0;34m\u001b[0m\u001b[0m\n\u001b[1;32m    112\u001b[0m                     \u001b[0mself\u001b[0m\u001b[0;34m.\u001b[0m\u001b[0m_raise_invalid_gzip_err\u001b[0m\u001b[0;34m(\u001b[0m\u001b[0;34m)\u001b[0m\u001b[0;34m\u001b[0m\u001b[0;34m\u001b[0m\u001b[0m\n",
      "\u001b[0;32m~/anaconda3/lib/python3.7/site-packages/warcio/archiveiterator.py\u001b[0m in \u001b[0;36m_next_record\u001b[0;34m(self, next_line)\u001b[0m\n\u001b[1;32m    260\u001b[0m                                                  \u001b[0mself\u001b[0m\u001b[0;34m.\u001b[0m\u001b[0mno_record_parse\u001b[0m\u001b[0;34m,\u001b[0m\u001b[0;34m\u001b[0m\u001b[0;34m\u001b[0m\u001b[0m\n\u001b[1;32m    261\u001b[0m                                                  \u001b[0mself\u001b[0m\u001b[0;34m.\u001b[0m\u001b[0mensure_http_headers\u001b[0m\u001b[0;34m,\u001b[0m\u001b[0;34m\u001b[0m\u001b[0;34m\u001b[0m\u001b[0m\n\u001b[0;32m--> 262\u001b[0;31m                                                  self.check_digests)\n\u001b[0m\u001b[1;32m    263\u001b[0m \u001b[0;34m\u001b[0m\u001b[0m\n\u001b[1;32m    264\u001b[0m         \u001b[0mself\u001b[0m\u001b[0;34m.\u001b[0m\u001b[0mmember_info\u001b[0m \u001b[0;34m=\u001b[0m \u001b[0;32mNone\u001b[0m\u001b[0;34m\u001b[0m\u001b[0;34m\u001b[0m\u001b[0m\n",
      "\u001b[0;32m~/anaconda3/lib/python3.7/site-packages/warcio/recordloader.py\u001b[0m in \u001b[0;36mparse_record_stream\u001b[0;34m(self, stream, statusline, known_format, no_record_parse, ensure_http_headers, check_digests)\u001b[0m\n\u001b[1;32m     86\u001b[0m                                      _detect_type_load_headers(stream,\n\u001b[1;32m     87\u001b[0m                                                                \u001b[0mstatusline\u001b[0m\u001b[0;34m,\u001b[0m\u001b[0;34m\u001b[0m\u001b[0;34m\u001b[0m\u001b[0m\n\u001b[0;32m---> 88\u001b[0;31m                                                                known_format))\n\u001b[0m\u001b[1;32m     89\u001b[0m \u001b[0;34m\u001b[0m\u001b[0m\n\u001b[1;32m     90\u001b[0m         \u001b[0;32mif\u001b[0m \u001b[0mthe_format\u001b[0m \u001b[0;34m==\u001b[0m \u001b[0;34m'arc'\u001b[0m\u001b[0;34m:\u001b[0m\u001b[0;34m\u001b[0m\u001b[0;34m\u001b[0m\u001b[0m\n",
      "\u001b[0;32m~/anaconda3/lib/python3.7/site-packages/warcio/recordloader.py\u001b[0m in \u001b[0;36m_detect_type_load_headers\u001b[0;34m(self, stream, statusline, known_format)\u001b[0m\n\u001b[1;32m    241\u001b[0m             \u001b[0;32melse\u001b[0m\u001b[0;34m:\u001b[0m\u001b[0;34m\u001b[0m\u001b[0;34m\u001b[0m\u001b[0m\n\u001b[1;32m    242\u001b[0m                 \u001b[0mmsg\u001b[0m \u001b[0;34m=\u001b[0m \u001b[0;34m'Unknown archive format, first line: '\u001b[0m\u001b[0;34m\u001b[0m\u001b[0;34m\u001b[0m\u001b[0m\n\u001b[0;32m--> 243\u001b[0;31m             \u001b[0;32mraise\u001b[0m \u001b[0mArchiveLoadFailed\u001b[0m\u001b[0;34m(\u001b[0m\u001b[0mmsg\u001b[0m \u001b[0;34m+\u001b[0m \u001b[0mstr\u001b[0m\u001b[0;34m(\u001b[0m\u001b[0mse\u001b[0m\u001b[0;34m.\u001b[0m\u001b[0mstatusline\u001b[0m\u001b[0;34m)\u001b[0m\u001b[0;34m)\u001b[0m\u001b[0;34m\u001b[0m\u001b[0;34m\u001b[0m\u001b[0m\n\u001b[0m\u001b[1;32m    244\u001b[0m \u001b[0;34m\u001b[0m\u001b[0m\n\u001b[1;32m    245\u001b[0m     \u001b[0;32mdef\u001b[0m \u001b[0m_ensure_target_uri_format\u001b[0m\u001b[0;34m(\u001b[0m\u001b[0mself\u001b[0m\u001b[0;34m,\u001b[0m \u001b[0mrec_headers\u001b[0m\u001b[0;34m)\u001b[0m\u001b[0;34m:\u001b[0m\u001b[0;34m\u001b[0m\u001b[0;34m\u001b[0m\u001b[0m\n",
      "\u001b[0;31mArchiveLoadFailed\u001b[0m: Unknown archive format, first line: ['<?xml', 'version=\"1.0\"', 'encoding=\"UTF-8\"?>']"
     ]
    }
   ],
   "source": [
    "import requests\n",
    "from warcio.archiveiterator import ArchiveIterator\n",
    "\n",
    "file_name = \"http://commoncrawl.s3.amazonaws.com/crawl-data/crawl-data/CC-MAIN-2020-05/segments/1579250589560.16/warc/CC-MAIN-20200117123339-20200117151339-00001.warc.gz\"\n",
    "file_name = rec_list[1]\n",
    "\n",
    "def print_records(url):\n",
    "    resp = requests.get(url, stream=True)\n",
    "\n",
    "    for record in ArchiveIterator(resp.raw, arc2warc=True):\n",
    "        if record.rec_type == 'warcinfo':\n",
    "            print(record.raw_stream.read())\n",
    "\n",
    "        elif record.rec_type == 'response':\n",
    "            if record.http_headers.get_header('Content-Type') == 'text/html':\n",
    "                print(record.rec_headers.get_header('WARC-Target-URI'))\n",
    "                print(record.content_stream().read())\n",
    "                print('')\n",
    "\n",
    "# WARC\n",
    "print_records(file_name)\n",
    "\n",
    "\n",
    "# ARC with arc2warc\n",
    "# print_records('https://archive.org/download/ExampleArcAndWarcFiles/IAH-20080430204825-00000-blackbook.arc.gz')\n"
   ]
  },
  {
   "cell_type": "code",
   "execution_count": null,
   "metadata": {},
   "outputs": [],
   "source": []
  }
 ],
 "metadata": {
  "kernelspec": {
   "display_name": "Python 3",
   "language": "python",
   "name": "python3"
  },
  "language_info": {
   "codemirror_mode": {
    "name": "ipython",
    "version": 3
   },
   "file_extension": ".py",
   "mimetype": "text/x-python",
   "name": "python",
   "nbconvert_exporter": "python",
   "pygments_lexer": "ipython3",
   "version": "3.7.3"
  }
 },
 "nbformat": 4,
 "nbformat_minor": 2
}
