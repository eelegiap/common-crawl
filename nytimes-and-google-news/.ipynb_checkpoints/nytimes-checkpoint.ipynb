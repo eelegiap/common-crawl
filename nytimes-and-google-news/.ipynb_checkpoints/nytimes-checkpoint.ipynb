{
 "cells": [
  {
   "cell_type": "code",
   "execution_count": 5,
   "metadata": {},
   "outputs": [],
   "source": [
    "# pip install news-please"
   ]
  },
  {
   "cell_type": "code",
   "execution_count": 6,
   "metadata": {},
   "outputs": [],
   "source": [
    "# pip install --upgrade twisted"
   ]
  },
  {
   "cell_type": "code",
   "execution_count": 7,
   "metadata": {},
   "outputs": [],
   "source": [
    "# pip install cchardet"
   ]
  },
  {
   "cell_type": "code",
   "execution_count": null,
   "metadata": {},
   "outputs": [],
   "source": [
    "import requests\n",
    "import time"
   ]
  },
  {
   "cell_type": "markdown",
   "metadata": {},
   "source": [
    "### Test out News-Please (an API for web scraping)"
   ]
  },
  {
   "cell_type": "code",
   "execution_count": 1,
   "metadata": {},
   "outputs": [
    {
     "name": "stdout",
     "output_type": "stream",
     "text": [
      "Stephen Bannon Reassures Conservatives Uneasy About Trump\n"
     ]
    }
   ],
   "source": [
    "from newsplease import NewsPlease\n",
    "article = NewsPlease.from_url('https://www.nytimes.com/2017/02/23/us/politics/cpac-stephen-bannon-reince-priebus.html?hp')\n",
    "print(article.title)"
   ]
  },
  {
   "cell_type": "code",
   "execution_count": 5,
   "metadata": {},
   "outputs": [
    {
     "name": "stdout",
     "output_type": "stream",
     "text": [
      "authors\n",
      "['Jeremy W. Peters']\n",
      "\n",
      "date_download\n",
      "2020-10-29 13:33:06\n",
      "\n",
      "date_modify\n",
      "None\n",
      "\n",
      "date_publish\n",
      "2017-02-24 02:07:06\n",
      "\n",
      "description\n",
      "The president’s chief strategist vowed that the “deconstruction of the administrative state” has begun, in a speech at the Conservative Political Action Conference.\n",
      "\n",
      "filename\n",
      "https%3A%2F%2Fwww.nytimes.com%2F2017%2F02%2F23%2Fus%2Fpolitics%2Fcpac-stephen-bannon-reince-priebus.html%3Fhp.json\n",
      "\n",
      "get_dict\n",
      "<bound method NewsArticle.get_dict of <NewsArticle.NewsArticle object at 0x11ad88198>>\n",
      "\n",
      "get_serializable_dict\n",
      "<bound method NewsArticle.get_serializable_dict of <NewsArticle.NewsArticle object at 0x11ad88198>>\n",
      "\n",
      "image_url\n",
      "https://static01.nyt.com/images/2017/02/24/us/24cpac1/24cpac1-facebookJumbo.jpg?year=2017&h=549&w=1050&sig=0x874aeb1455847f4591bcc7575e2ee78b\n",
      "\n",
      "language\n",
      "en\n",
      "\n",
      "localpath\n",
      "None\n",
      "\n",
      "maintext\n",
      "Ms. Conway said the stories of disarray in the White House, including recent accounts that she has been sidelined lately, were nothing more than tiresome palace intrigue. And without naming names, she said the attacks directed at her were really desperate attacks against the president by political enemies still sore about the election.\n",
      "“To try to remove me from the equation would remove one of his voices and one of his trusted aides. And that would be hurtful to him,” she said. “They didn’t see this coming. They weren’t prepared for this result — even though they all ran around and said: ‘We’re a divided country! We’re a divided country!’”\n",
      "It was not as if the support for Mr. Trump, who will speak to the conference Friday morning, is not enthusiastic.\n",
      "“I always said he’s not a stupid man. And if he has the right people around him he’s going to do the right thing,” said Daniel Cirucci of Cherry Hill, N.J., who was standing in line on Thursday evening to listen to Vice President Mike Pence, a conservative he said he deeply admired. “I think he realizes the enormity of the job,” Mr. Cirucci added. “Now does that mean Trump is going to stop being Trump? No.”\n",
      "These should be good times for conservatives — and much of the time they are. They control not just the White House but both houses of Congress and appear on the verge of regaining a majority on the Supreme Court. They have not dominated so many state governments in close to a century.\n",
      "But part of the subtext of CPAC this year has been how conservative leaders are trying to smooth out the rougher edges of their movement, not all of which involve Mr. Trump.\n",
      "\n",
      "source_domain\n",
      "www.nytimes.com\n",
      "\n",
      "text\n",
      "None\n",
      "\n",
      "title\n",
      "Stephen Bannon Reassures Conservatives Uneasy About Trump\n",
      "\n",
      "title_page\n",
      "None\n",
      "\n",
      "title_rss\n",
      "None\n",
      "\n",
      "url\n",
      "https://www.nytimes.com/2017/02/23/us/politics/cpac-stephen-bannon-reince-priebus.html?hp\n",
      "\n"
     ]
    }
   ],
   "source": [
    "for method in dir(article):\n",
    "    if method[0] != '_':\n",
    "        print(method)\n",
    "        print(getattr(article, method))\n",
    "        print()"
   ]
  },
  {
   "cell_type": "markdown",
   "metadata": {},
   "source": [
    "## Access the NYTimes API (fairly successful)\n",
    "https://developer.nytimes.com/get-started"
   ]
  },
  {
   "cell_type": "code",
   "execution_count": 40,
   "metadata": {},
   "outputs": [],
   "source": [
    "month_dict = dict()\n",
    "for month in range(1,11):\n",
    "    response = requests.get(f'https://api.nytimes.com/svc/archive/v1/2020/{month}.json?api-key=ZA6aVE1hA4uC83loGmtDNU7faHJAVNNv')\n",
    "    jsonResponse = response.json()\n",
    "    month_dict[month] = jsonResponse"
   ]
  },
  {
   "cell_type": "code",
   "execution_count": 41,
   "metadata": {},
   "outputs": [
    {
     "data": {
      "text/plain": [
       "dict_keys(['abstract', 'web_url', 'snippet', 'lead_paragraph', 'source', 'multimedia', 'headline', 'keywords', 'pub_date', 'document_type', 'news_desk', 'section_name', 'byline', 'type_of_material', '_id', 'word_count', 'uri'])"
      ]
     },
     "execution_count": 41,
     "metadata": {},
     "output_type": "execute_result"
    }
   ],
   "source": [
    "doc_dict.keys()"
   ]
  },
  {
   "cell_type": "markdown",
   "metadata": {},
   "source": [
    "### Load economy and covid keywords"
   ]
  },
  {
   "cell_type": "code",
   "execution_count": 50,
   "metadata": {},
   "outputs": [],
   "source": [
    "with open('economy_keywords.txt','r') as f:\n",
    "    economy_keywords = f.read().split('\\n')\n",
    "with open('covid_keywords.txt','r') as f:\n",
    "    covid_keywords = f.read().split('\\n')"
   ]
  },
  {
   "cell_type": "markdown",
   "metadata": {},
   "source": [
    "### Search each article text for keywords from both categories"
   ]
  },
  {
   "cell_type": "code",
   "execution_count": 55,
   "metadata": {},
   "outputs": [],
   "source": [
    "economy_and_covid = []\n",
    "\n",
    "for month in month_dict.keys():\n",
    "    json_response = month_dict[month]\n",
    "    for doc_dict in jsonResponse['response']['docs']:\n",
    "        text = doc_dict['abstract'] + doc_dict['snippet'] + doc_dict['lead_paragraph']\n",
    "        economy_key_found = False\n",
    "        covid_key_found = False\n",
    "        for word in economy_keywords:\n",
    "            if word in text:\n",
    "                economy_key_found = True\n",
    "                break\n",
    "        for word in covid_keywords:\n",
    "            if word in text:\n",
    "                covid_key_found = True\n",
    "                break\n",
    "        if economy_key_found and covid_key_found:\n",
    "            economy_and_covid.append((doc_dict, month))"
   ]
  },
  {
   "cell_type": "code",
   "execution_count": 139,
   "metadata": {},
   "outputs": [
    {
     "name": "stdout",
     "output_type": "stream",
     "text": [
      "there are 2570 total COVIDxEcon articles in the NYTimes archives from 2020.\n"
     ]
    }
   ],
   "source": [
    "print('there are',len(economy_and_covid),'total COVIDxEcon articles in the NYTimes archives from 2020.')"
   ]
  },
  {
   "cell_type": "code",
   "execution_count": 61,
   "metadata": {},
   "outputs": [],
   "source": [
    "with open('URLS.txt', 'w') as f:\n",
    "    for doc_dict, month in economy_and_covid:\n",
    "        f.write(doc_dict['web_url'] + ',' + str(month) + '\\n')"
   ]
  },
  {
   "cell_type": "markdown",
   "metadata": {},
   "source": [
    "## Google News API (not as successful)\n",
    "https://newsapi.org/s/google-news-api"
   ]
  },
  {
   "cell_type": "code",
   "execution_count": 80,
   "metadata": {},
   "outputs": [
    {
     "name": "stdout",
     "output_type": "stream",
     "text": [
      "Collecting newsapi-python\n",
      "  Downloading newsapi_python-0.2.6-py2.py3-none-any.whl (7.9 kB)\n",
      "Requirement already satisfied: requests<3.0.0 in /Users/paigelee/anaconda3/lib/python3.7/site-packages (from newsapi-python) (2.22.0)\n",
      "Requirement already satisfied: chardet<3.1.0,>=3.0.2 in /Users/paigelee/anaconda3/lib/python3.7/site-packages (from requests<3.0.0->newsapi-python) (3.0.4)\n",
      "Requirement already satisfied: certifi>=2017.4.17 in /Users/paigelee/anaconda3/lib/python3.7/site-packages (from requests<3.0.0->newsapi-python) (2020.6.20)\n",
      "Requirement already satisfied: urllib3!=1.25.0,!=1.25.1,<1.26,>=1.21.1 in /Users/paigelee/anaconda3/lib/python3.7/site-packages (from requests<3.0.0->newsapi-python) (1.25.9)\n",
      "Requirement already satisfied: idna<2.9,>=2.5 in /Users/paigelee/anaconda3/lib/python3.7/site-packages (from requests<3.0.0->newsapi-python) (2.8)\n",
      "Installing collected packages: newsapi-python\n",
      "Successfully installed newsapi-python-0.2.6\n",
      "\u001b[33mWARNING: You are using pip version 20.1; however, version 20.2.4 is available.\n",
      "You should consider upgrading via the '/Users/paigelee/anaconda3/bin/python -m pip install --upgrade pip' command.\u001b[0m\n",
      "Note: you may need to restart the kernel to use updated packages.\n"
     ]
    }
   ],
   "source": [
    "pip install newsapi-python"
   ]
  },
  {
   "cell_type": "code",
   "execution_count": 115,
   "metadata": {},
   "outputs": [],
   "source": [
    "from newsapi import NewsApiClient\n",
    "\n",
    "# Init\n",
    "newsapi = NewsApiClient(api_key='679b374b638e4a17bcb0a7f43f4a8806')\n",
    "\n",
    "# /v2/top-headlines\n",
    "top_headlines = newsapi.get_top_headlines(q='bitcoin',\n",
    "                                          sources='bbc-news,the-verge',\n",
    "                                          language='en')\n",
    "\n",
    "# /v2/everything\n",
    "covid = newsapi.get_everything(q='covid',\n",
    "                                      from_param='2020-09-29',\n",
    "                                      to='2020-10-28',\n",
    "                                      language='en',\n",
    "                                      sort_by='relevancy')\n",
    "# coronavirus = newsapi.get_everything(q='coronavirus',\n",
    "#                                       from_param='2020-09-29',\n",
    "#                                       to='2020-10-28',\n",
    "#                                       language='en',\n",
    "#                                       sort_by='relevancy',\n",
    "#                                       page=2)\n",
    "\n",
    "# /v2/sources\n",
    "sources = newsapi.get_sources()"
   ]
  },
  {
   "cell_type": "markdown",
   "metadata": {},
   "source": [
    "### Covid"
   ]
  },
  {
   "cell_type": "code",
   "execution_count": 131,
   "metadata": {},
   "outputs": [
    {
     "name": "stdout",
     "output_type": "stream",
     "text": [
      "160 covid articles in the last month\n"
     ]
    }
   ],
   "source": [
    "all_covid_articles = []\n",
    "for covid_key in covid_keywords:\n",
    "    articles = newsapi.get_everything(q=covid_key,\n",
    "                                      from_param='2020-10-01',\n",
    "                                      to='2020-10-28',\n",
    "                                      language='en',\n",
    "                                      sort_by='relevancy',\n",
    "                                      page=2)\n",
    "    for article in articles['articles']:\n",
    "        all_covid_articles.append(article['url'])\n",
    "print(len(all_covid_articles), 'covid articles in the last month')"
   ]
  },
  {
   "cell_type": "code",
   "execution_count": 138,
   "metadata": {},
   "outputs": [
    {
     "ename": "NewsAPIException",
     "evalue": "{'status': 'error', 'code': 'rateLimited', 'message': 'You have made too many requests recently. Developer accounts are limited to 100 requests over a 24 hour period (50 requests available every 12 hours). Please upgrade to a paid plan if you need more requests.'}",
     "output_type": "error",
     "traceback": [
      "\u001b[0;31m---------------------------------------------------------------------------\u001b[0m",
      "\u001b[0;31mNewsAPIException\u001b[0m                          Traceback (most recent call last)",
      "\u001b[0;32m<ipython-input-138-ef8849bcf3ce>\u001b[0m in \u001b[0;36m<module>\u001b[0;34m\u001b[0m\n\u001b[1;32m      6\u001b[0m                                       \u001b[0mlanguage\u001b[0m\u001b[0;34m=\u001b[0m\u001b[0;34m'en'\u001b[0m\u001b[0;34m,\u001b[0m\u001b[0;34m\u001b[0m\u001b[0;34m\u001b[0m\u001b[0m\n\u001b[1;32m      7\u001b[0m                                       \u001b[0msort_by\u001b[0m\u001b[0;34m=\u001b[0m\u001b[0;34m'relevancy'\u001b[0m\u001b[0;34m,\u001b[0m\u001b[0;34m\u001b[0m\u001b[0;34m\u001b[0m\u001b[0m\n\u001b[0;32m----> 8\u001b[0;31m                                       page=2)\n\u001b[0m\u001b[1;32m      9\u001b[0m     \u001b[0;32mfor\u001b[0m \u001b[0marticle\u001b[0m \u001b[0;32min\u001b[0m \u001b[0marticles\u001b[0m\u001b[0;34m[\u001b[0m\u001b[0;34m'articles'\u001b[0m\u001b[0;34m]\u001b[0m\u001b[0;34m:\u001b[0m\u001b[0;34m\u001b[0m\u001b[0;34m\u001b[0m\u001b[0m\n\u001b[1;32m     10\u001b[0m         \u001b[0mall_econ_articles\u001b[0m\u001b[0;34m.\u001b[0m\u001b[0mappend\u001b[0m\u001b[0;34m(\u001b[0m\u001b[0marticle\u001b[0m\u001b[0;34m[\u001b[0m\u001b[0;34m'url'\u001b[0m\u001b[0;34m]\u001b[0m\u001b[0;34m)\u001b[0m\u001b[0;34m\u001b[0m\u001b[0;34m\u001b[0m\u001b[0m\n",
      "\u001b[0;32m~/anaconda3/lib/python3.7/site-packages/newsapi/newsapi_client.py\u001b[0m in \u001b[0;36mget_everything\u001b[0;34m(self, q, qintitle, sources, domains, exclude_domains, from_param, to, language, sort_by, page, page_size)\u001b[0m\n\u001b[1;32m    324\u001b[0m         \u001b[0;31m# Check Status of Request\u001b[0m\u001b[0;34m\u001b[0m\u001b[0;34m\u001b[0m\u001b[0;34m\u001b[0m\u001b[0m\n\u001b[1;32m    325\u001b[0m         \u001b[0;32mif\u001b[0m \u001b[0mr\u001b[0m\u001b[0;34m.\u001b[0m\u001b[0mstatus_code\u001b[0m \u001b[0;34m!=\u001b[0m \u001b[0mrequests\u001b[0m\u001b[0;34m.\u001b[0m\u001b[0mcodes\u001b[0m\u001b[0;34m.\u001b[0m\u001b[0mok\u001b[0m\u001b[0;34m:\u001b[0m\u001b[0;34m\u001b[0m\u001b[0;34m\u001b[0m\u001b[0m\n\u001b[0;32m--> 326\u001b[0;31m             \u001b[0;32mraise\u001b[0m \u001b[0mNewsAPIException\u001b[0m\u001b[0;34m(\u001b[0m\u001b[0mr\u001b[0m\u001b[0;34m.\u001b[0m\u001b[0mjson\u001b[0m\u001b[0;34m(\u001b[0m\u001b[0;34m)\u001b[0m\u001b[0;34m)\u001b[0m\u001b[0;34m\u001b[0m\u001b[0;34m\u001b[0m\u001b[0m\n\u001b[0m\u001b[1;32m    327\u001b[0m \u001b[0;34m\u001b[0m\u001b[0m\n\u001b[1;32m    328\u001b[0m         \u001b[0;32mreturn\u001b[0m \u001b[0mr\u001b[0m\u001b[0;34m.\u001b[0m\u001b[0mjson\u001b[0m\u001b[0;34m(\u001b[0m\u001b[0;34m)\u001b[0m\u001b[0;34m\u001b[0m\u001b[0;34m\u001b[0m\u001b[0m\n",
      "\u001b[0;31mNewsAPIException\u001b[0m: {'status': 'error', 'code': 'rateLimited', 'message': 'You have made too many requests recently. Developer accounts are limited to 100 requests over a 24 hour period (50 requests available every 12 hours). Please upgrade to a paid plan if you need more requests.'}"
     ]
    }
   ],
   "source": [
    "all_econ_articles = []\n",
    "for econ_key in economy_keywords:\n",
    "    articles = newsapi.get_everything(q=econ_key,\n",
    "                                      from_param='2020-10-01',\n",
    "                                      to='2020-10-28',\n",
    "                                      language='en',\n",
    "                                      sort_by='relevancy',\n",
    "                                      page=2)\n",
    "    for article in articles['articles']:\n",
    "        all_econ_articles.append(article['url'])\n",
    "print(len(all_econ_articles), 'econ articles in the last month')"
   ]
  },
  {
   "cell_type": "markdown",
   "metadata": {},
   "source": [
    "### Intersection of the COVID and Econ sets"
   ]
  },
  {
   "cell_type": "code",
   "execution_count": 136,
   "metadata": {},
   "outputs": [
    {
     "data": {
      "text/plain": [
       "'https://www.bbc.co.uk/news/business-53731404'"
      ]
     },
     "execution_count": 136,
     "metadata": {},
     "output_type": "execute_result"
    }
   ],
   "source": [
    "articles['articles'][0]['url']"
   ]
  },
  {
   "cell_type": "code",
   "execution_count": null,
   "metadata": {},
   "outputs": [],
   "source": []
  }
 ],
 "metadata": {
  "kernelspec": {
   "display_name": "Python 3",
   "language": "python",
   "name": "python3"
  },
  "language_info": {
   "codemirror_mode": {
    "name": "ipython",
    "version": 3
   },
   "file_extension": ".py",
   "mimetype": "text/x-python",
   "name": "python",
   "nbconvert_exporter": "python",
   "pygments_lexer": "ipython3",
   "version": "3.7.3"
  }
 },
 "nbformat": 4,
 "nbformat_minor": 2
}
