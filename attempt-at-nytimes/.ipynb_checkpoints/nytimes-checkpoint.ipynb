{
 "cells": [
  {
   "cell_type": "code",
   "execution_count": 5,
   "metadata": {},
   "outputs": [],
   "source": [
    "# pip install news-please"
   ]
  },
  {
   "cell_type": "code",
   "execution_count": 6,
   "metadata": {},
   "outputs": [],
   "source": [
    "# pip install --upgrade twisted"
   ]
  },
  {
   "cell_type": "code",
   "execution_count": 7,
   "metadata": {},
   "outputs": [],
   "source": [
    "# pip install cchardet"
   ]
  },
  {
   "cell_type": "code",
   "execution_count": null,
   "metadata": {},
   "outputs": [],
   "source": [
    "import requests\n",
    "import time"
   ]
  },
  {
   "cell_type": "markdown",
   "metadata": {},
   "source": [
    "### Test out News-Please (an API for web scraping)"
   ]
  },
  {
   "cell_type": "code",
   "execution_count": 1,
   "metadata": {},
   "outputs": [
    {
     "name": "stdout",
     "output_type": "stream",
     "text": [
      "Stephen Bannon Reassures Conservatives Uneasy About Trump\n"
     ]
    }
   ],
   "source": [
    "from newsplease import NewsPlease\n",
    "article = NewsPlease.from_url('https://www.nytimes.com/2017/02/23/us/politics/cpac-stephen-bannon-reince-priebus.html?hp')\n",
    "print(article.title)"
   ]
  },
  {
   "cell_type": "code",
   "execution_count": 5,
   "metadata": {},
   "outputs": [
    {
     "name": "stdout",
     "output_type": "stream",
     "text": [
      "authors\n",
      "['Jeremy W. Peters']\n",
      "\n",
      "date_download\n",
      "2020-10-29 13:33:06\n",
      "\n",
      "date_modify\n",
      "None\n",
      "\n",
      "date_publish\n",
      "2017-02-24 02:07:06\n",
      "\n",
      "description\n",
      "The president’s chief strategist vowed that the “deconstruction of the administrative state” has begun, in a speech at the Conservative Political Action Conference.\n",
      "\n",
      "filename\n",
      "https%3A%2F%2Fwww.nytimes.com%2F2017%2F02%2F23%2Fus%2Fpolitics%2Fcpac-stephen-bannon-reince-priebus.html%3Fhp.json\n",
      "\n",
      "get_dict\n",
      "<bound method NewsArticle.get_dict of <NewsArticle.NewsArticle object at 0x11ad88198>>\n",
      "\n",
      "get_serializable_dict\n",
      "<bound method NewsArticle.get_serializable_dict of <NewsArticle.NewsArticle object at 0x11ad88198>>\n",
      "\n",
      "image_url\n",
      "https://static01.nyt.com/images/2017/02/24/us/24cpac1/24cpac1-facebookJumbo.jpg?year=2017&h=549&w=1050&sig=0x874aeb1455847f4591bcc7575e2ee78b\n",
      "\n",
      "language\n",
      "en\n",
      "\n",
      "localpath\n",
      "None\n",
      "\n",
      "maintext\n",
      "Ms. Conway said the stories of disarray in the White House, including recent accounts that she has been sidelined lately, were nothing more than tiresome palace intrigue. And without naming names, she said the attacks directed at her were really desperate attacks against the president by political enemies still sore about the election.\n",
      "“To try to remove me from the equation would remove one of his voices and one of his trusted aides. And that would be hurtful to him,” she said. “They didn’t see this coming. They weren’t prepared for this result — even though they all ran around and said: ‘We’re a divided country! We’re a divided country!’”\n",
      "It was not as if the support for Mr. Trump, who will speak to the conference Friday morning, is not enthusiastic.\n",
      "“I always said he’s not a stupid man. And if he has the right people around him he’s going to do the right thing,” said Daniel Cirucci of Cherry Hill, N.J., who was standing in line on Thursday evening to listen to Vice President Mike Pence, a conservative he said he deeply admired. “I think he realizes the enormity of the job,” Mr. Cirucci added. “Now does that mean Trump is going to stop being Trump? No.”\n",
      "These should be good times for conservatives — and much of the time they are. They control not just the White House but both houses of Congress and appear on the verge of regaining a majority on the Supreme Court. They have not dominated so many state governments in close to a century.\n",
      "But part of the subtext of CPAC this year has been how conservative leaders are trying to smooth out the rougher edges of their movement, not all of which involve Mr. Trump.\n",
      "\n",
      "source_domain\n",
      "www.nytimes.com\n",
      "\n",
      "text\n",
      "None\n",
      "\n",
      "title\n",
      "Stephen Bannon Reassures Conservatives Uneasy About Trump\n",
      "\n",
      "title_page\n",
      "None\n",
      "\n",
      "title_rss\n",
      "None\n",
      "\n",
      "url\n",
      "https://www.nytimes.com/2017/02/23/us/politics/cpac-stephen-bannon-reince-priebus.html?hp\n",
      "\n"
     ]
    }
   ],
   "source": [
    "for method in dir(article):\n",
    "    if method[0] != '_':\n",
    "        print(method)\n",
    "        print(getattr(article, method))\n",
    "        print()"
   ]
  },
  {
   "cell_type": "markdown",
   "metadata": {},
   "source": [
    "### Access the NYTimes API"
   ]
  },
  {
   "cell_type": "code",
   "execution_count": 40,
   "metadata": {},
   "outputs": [],
   "source": [
    "month_dict = dict()\n",
    "for month in range(1,11):\n",
    "    response = requests.get(f'https://api.nytimes.com/svc/archive/v1/2020/{month}.json?api-key=ZA6aVE1hA4uC83loGmtDNU7faHJAVNNv')\n",
    "    jsonResponse = response.json()\n",
    "    month_dict[month] = jsonResponse"
   ]
  },
  {
   "cell_type": "code",
   "execution_count": 41,
   "metadata": {},
   "outputs": [
    {
     "data": {
      "text/plain": [
       "dict_keys(['abstract', 'web_url', 'snippet', 'lead_paragraph', 'source', 'multimedia', 'headline', 'keywords', 'pub_date', 'document_type', 'news_desk', 'section_name', 'byline', 'type_of_material', '_id', 'word_count', 'uri'])"
      ]
     },
     "execution_count": 41,
     "metadata": {},
     "output_type": "execute_result"
    }
   ],
   "source": [
    "doc_dict.keys()"
   ]
  },
  {
   "cell_type": "markdown",
   "metadata": {},
   "source": [
    "### Load economy and covid keywords"
   ]
  },
  {
   "cell_type": "code",
   "execution_count": 50,
   "metadata": {},
   "outputs": [],
   "source": [
    "with open('economy_keywords.txt','r') as f:\n",
    "    economy_keywords = f.read().split('\\n')\n",
    "with open('covid_keywords.txt','r') as f:\n",
    "    covid_keywords = f.read().split('\\n')"
   ]
  },
  {
   "cell_type": "markdown",
   "metadata": {},
   "source": [
    "### Search each article text for keywords from both categories"
   ]
  },
  {
   "cell_type": "code",
   "execution_count": 51,
   "metadata": {},
   "outputs": [],
   "source": [
    "economy_and_covid = []\n",
    "\n",
    "for month in month_dict.keys():\n",
    "    json_response = month_dict[month]\n",
    "    for doc_dict in jsonResponse['response']['docs']:\n",
    "        text = doc_dict['abstract'] + doc_dict['snippet'] + doc_dict['lead_paragraph']\n",
    "        economy_key_found = False\n",
    "        covid_key_found = False\n",
    "        for word in economy_keywords:\n",
    "            if word in text:\n",
    "                economy_key_found = True\n",
    "                break\n",
    "        for word in covid_keywords:\n",
    "            if word in text:\n",
    "                covid_key_found = True\n",
    "                break\n",
    "        if economy_key_found and covid_key_found:\n",
    "            economy_and_covid.append(doc_dict)"
   ]
  },
  {
   "cell_type": "code",
   "execution_count": 52,
   "metadata": {},
   "outputs": [
    {
     "data": {
      "text/plain": [
       "{'abstract': 'Does the latest twist herald the end of a bull run or the beginning of a shift toward long-neglected niches?',\n",
       " 'web_url': 'https://www.nytimes.com/2020/10/09/business/mutfund/stock-market-high-low.html',\n",
       " 'snippet': 'Does the latest twist herald the end of a bull run or the beginning of a shift toward long-neglected niches?',\n",
       " 'lead_paragraph': 'The bear market came and went in a hurry as the pandemic took hold, replaced by a bull market that has looked increasingly fragile.',\n",
       " 'print_section': 'BU',\n",
       " 'print_page': '11',\n",
       " 'source': 'The New York Times',\n",
       " 'multimedia': [{'rank': 0,\n",
       "   'subtype': 'xlarge',\n",
       "   'caption': None,\n",
       "   'credit': None,\n",
       "   'type': 'image',\n",
       "   'url': 'images/2020/10/11/business/11quartercov-online/merlin_178187193_4c9dd8e8-4387-4895-b516-838b35c3c5f2-articleLarge.jpg',\n",
       "   'height': 717,\n",
       "   'width': 600,\n",
       "   'legacy': {'xlarge': 'images/2020/10/11/business/11quartercov-online/merlin_178187193_4c9dd8e8-4387-4895-b516-838b35c3c5f2-articleLarge.jpg',\n",
       "    'xlargewidth': 600,\n",
       "    'xlargeheight': 717},\n",
       "   'subType': 'xlarge',\n",
       "   'crop_name': 'articleLarge'},\n",
       "  {'rank': 0,\n",
       "   'subtype': 'jumbo',\n",
       "   'caption': None,\n",
       "   'credit': None,\n",
       "   'type': 'image',\n",
       "   'url': 'images/2020/10/11/business/11quartercov-online/merlin_178187193_4c9dd8e8-4387-4895-b516-838b35c3c5f2-jumbo.jpg',\n",
       "   'height': 1024,\n",
       "   'width': 858,\n",
       "   'legacy': [],\n",
       "   'subType': 'jumbo',\n",
       "   'crop_name': 'jumbo'},\n",
       "  {'rank': 0,\n",
       "   'subtype': 'superJumbo',\n",
       "   'caption': None,\n",
       "   'credit': None,\n",
       "   'type': 'image',\n",
       "   'url': 'images/2020/10/11/business/11quartercov-online/merlin_178187193_4c9dd8e8-4387-4895-b516-838b35c3c5f2-superJumbo.jpg',\n",
       "   'height': 2048,\n",
       "   'width': 1715,\n",
       "   'legacy': [],\n",
       "   'subType': 'superJumbo',\n",
       "   'crop_name': 'superJumbo'},\n",
       "  {'rank': 0,\n",
       "   'subtype': 'thumbnail',\n",
       "   'caption': None,\n",
       "   'credit': None,\n",
       "   'type': 'image',\n",
       "   'url': 'images/2020/10/11/business/11quartercov-online/11quartercov-online-thumbStandard-v2.jpg',\n",
       "   'height': 75,\n",
       "   'width': 75,\n",
       "   'legacy': {'thumbnail': 'images/2020/10/11/business/11quartercov-online/11quartercov-online-thumbStandard-v2.jpg',\n",
       "    'thumbnailwidth': 75,\n",
       "    'thumbnailheight': 75},\n",
       "   'subType': 'thumbnail',\n",
       "   'crop_name': 'thumbStandard'},\n",
       "  {'rank': 0,\n",
       "   'subtype': 'thumbLarge',\n",
       "   'caption': None,\n",
       "   'credit': None,\n",
       "   'type': 'image',\n",
       "   'url': 'images/2020/10/11/business/11quartercov-online/11quartercov-online-thumbLarge-v2.jpg',\n",
       "   'height': 150,\n",
       "   'width': 150,\n",
       "   'legacy': [],\n",
       "   'subType': 'thumbLarge',\n",
       "   'crop_name': 'thumbLarge'}],\n",
       " 'headline': {'main': 'Finding the Right Path in an Up-and-Down Market',\n",
       "  'kicker': None,\n",
       "  'content_kicker': None,\n",
       "  'print_headline': 'Riding the Market From Bear to Bull And Back Again',\n",
       "  'name': None,\n",
       "  'seo': None,\n",
       "  'sub': None},\n",
       " 'keywords': [{'name': 'subject',\n",
       "   'value': 'United States Economy',\n",
       "   'rank': 1,\n",
       "   'major': 'N'},\n",
       "  {'name': 'subject',\n",
       "   'value': 'Coronavirus Aid, Relief, and Economic Security Act (2020)',\n",
       "   'rank': 2,\n",
       "   'major': 'N'},\n",
       "  {'name': 'subject',\n",
       "   'value': 'Nasdaq Composite Index',\n",
       "   'rank': 3,\n",
       "   'major': 'N'},\n",
       "  {'name': 'subject', 'value': 'Stimulus (Economic)', 'rank': 4, 'major': 'N'},\n",
       "  {'name': 'subject',\n",
       "   'value': 'Recession and Depression',\n",
       "   'rank': 5,\n",
       "   'major': 'N'},\n",
       "  {'name': 'subject',\n",
       "   'value': 'Coronavirus (2019-nCoV)',\n",
       "   'rank': 6,\n",
       "   'major': 'N'},\n",
       "  {'name': 'subject', 'value': 'Stocks and Bonds', 'rank': 7, 'major': 'N'},\n",
       "  {'name': 'subject', 'value': 'Interest Rates', 'rank': 8, 'major': 'N'},\n",
       "  {'name': 'subject', 'value': 'Credit and Debt', 'rank': 9, 'major': 'N'},\n",
       "  {'name': 'subject',\n",
       "   'value': 'United States Politics and Government',\n",
       "   'rank': 10,\n",
       "   'major': 'N'},\n",
       "  {'name': 'subject',\n",
       "   'value': 'Banking and Financial Institutions',\n",
       "   'rank': 11,\n",
       "   'major': 'N'},\n",
       "  {'name': 'subject',\n",
       "   'value': 'Unemployment Insurance',\n",
       "   'rank': 12,\n",
       "   'major': 'N'},\n",
       "  {'name': 'subject',\n",
       "   'value': \"Standard & Poor's 500-Stock Index\",\n",
       "   'rank': 13,\n",
       "   'major': 'N'},\n",
       "  {'name': 'subject',\n",
       "   'value': 'Inflation (Economics)',\n",
       "   'rank': 14,\n",
       "   'major': 'N'},\n",
       "  {'name': 'organizations',\n",
       "   'value': 'AMERICAN EXPRESS COMPANY',\n",
       "   'rank': 15,\n",
       "   'major': 'N'},\n",
       "  {'name': 'organizations',\n",
       "   'value': 'BlackRock Inc',\n",
       "   'rank': 16,\n",
       "   'major': 'N'},\n",
       "  {'name': 'organizations', 'value': 'Chegg Inc', 'rank': 17, 'major': 'N'},\n",
       "  {'name': 'organizations',\n",
       "   'value': 'Federal Reserve System',\n",
       "   'rank': 18,\n",
       "   'major': 'N'},\n",
       "  {'name': 'organizations',\n",
       "   'value': 'Goldman Sachs Group Inc',\n",
       "   'rank': 19,\n",
       "   'major': 'N'},\n",
       "  {'name': 'organizations',\n",
       "   'value': 'Intercontinental Exchange Inc',\n",
       "   'rank': 20,\n",
       "   'major': 'N'},\n",
       "  {'name': 'organizations', 'value': 'Lazard LLC', 'rank': 21, 'major': 'N'},\n",
       "  {'name': 'organizations',\n",
       "   'value': 'Leuthold Group',\n",
       "   'rank': 22,\n",
       "   'major': 'N'},\n",
       "  {'name': 'organizations',\n",
       "   'value': 'Medtronic Inc',\n",
       "   'rank': 23,\n",
       "   'major': 'N'},\n",
       "  {'name': 'organizations', 'value': 'Netflix Inc', 'rank': 24, 'major': 'N'},\n",
       "  {'name': 'organizations', 'value': 'Roku', 'rank': 25, 'major': 'N'},\n",
       "  {'name': 'organizations',\n",
       "   'value': 'Vanguard Group Inc',\n",
       "   'rank': 26,\n",
       "   'major': 'N'},\n",
       "  {'name': 'persons', 'value': 'Trump, Donald J', 'rank': 27, 'major': 'N'}],\n",
       " 'pub_date': '2020-10-09T09:00:24+0000',\n",
       " 'document_type': 'article',\n",
       " 'news_desk': 'SundayBusiness',\n",
       " 'section_name': 'Business Day',\n",
       " 'subsection_name': 'Mutual Funds',\n",
       " 'byline': {'original': 'By Conrad de Aenlle',\n",
       "  'person': [{'firstname': 'Conrad',\n",
       "    'middlename': None,\n",
       "    'lastname': 'de Aenlle',\n",
       "    'qualifier': None,\n",
       "    'title': None,\n",
       "    'role': 'reported',\n",
       "    'organization': '',\n",
       "    'rank': 1}],\n",
       "  'organization': None},\n",
       " 'type_of_material': 'News',\n",
       " '_id': 'nyt://article/f771f8c6-6875-5e6b-be41-58e67cc8d3a9',\n",
       " 'word_count': 1789,\n",
       " 'uri': 'nyt://article/f771f8c6-6875-5e6b-be41-58e67cc8d3a9'}"
      ]
     },
     "execution_count": 52,
     "metadata": {},
     "output_type": "execute_result"
    }
   ],
   "source": [
    "economy_and_covid[100]"
   ]
  },
  {
   "cell_type": "code",
   "execution_count": null,
   "metadata": {},
   "outputs": [],
   "source": []
  }
 ],
 "metadata": {
  "kernelspec": {
   "display_name": "Python 3",
   "language": "python",
   "name": "python3"
  },
  "language_info": {
   "codemirror_mode": {
    "name": "ipython",
    "version": 3
   },
   "file_extension": ".py",
   "mimetype": "text/x-python",
   "name": "python",
   "nbconvert_exporter": "python",
   "pygments_lexer": "ipython3",
   "version": "3.7.3"
  }
 },
 "nbformat": 4,
 "nbformat_minor": 2
}
